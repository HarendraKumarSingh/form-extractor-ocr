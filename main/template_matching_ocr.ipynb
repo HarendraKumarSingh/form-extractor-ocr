{
 "cells": [
  {
   "cell_type": "code",
   "execution_count": null,
   "metadata": {},
   "outputs": [],
   "source": [
    "%matplotlib inline\n",
    "import cv2\n",
    "import pandas as pd \n",
    "import numpy as np\n",
    "import xml.etree.ElementTree as ET\n",
    "import pytesseract as pytess\n",
    "import sys\n",
    "from models import get_model_config, get_model_name, load_model\n",
    "from utils import ask_for_file_particulars,get_white_foreground_and_black_background\n",
    "import cv2\n",
    "import skimage.io as skio\n",
    "from skimage.transform import rescale, resize\n",
    "from decimal import Decimal, ROUND_HALF_UP\n",
    "from preprocessing import preprocess\n",
    "import matplotlib.pyplot as plt"
   ]
  },
  {
   "cell_type": "code",
   "execution_count": null,
   "metadata": {},
   "outputs": [],
   "source": [
    "#Load template \n",
    "template_file='./../data/template/template_3.xml'"
   ]
  },
  {
   "cell_type": "code",
   "execution_count": null,
   "metadata": {},
   "outputs": [],
   "source": [
    "dumps = list()\n",
    "annotations=template_file\n",
    "in_file = open(template_file)\n",
    "tree=ET.parse(in_file)\n",
    "root = tree.getroot()\n",
    "jpg = annotations.split('.')[0] + '.jpg'\n",
    "imsize = root.find('size')\n",
    "w = int(imsize.find('width').text)\n",
    "h = int(imsize.find('height').text)\n",
    "all = list()\n",
    "\n",
    "for obj in root.iter('object'):\n",
    "        current = list()\n",
    "        name = obj.find('name').text\n",
    "        xmlbox = obj.find('bndbox')\n",
    "        xn = int(float(xmlbox.find('xmin').text))\n",
    "        xx = int(float(xmlbox.find('xmax').text))\n",
    "        yn = int(float(xmlbox.find('ymin').text))\n",
    "        yx = int(float(xmlbox.find('ymax').text))\n",
    "        current += [jpg,w,h,name,xn,yn,xx,yx]\n",
    "        all += [current]\n",
    "\n",
    "in_file.close()"
   ]
  },
  {
   "cell_type": "code",
   "execution_count": null,
   "metadata": {},
   "outputs": [],
   "source": [
    "data = pd.DataFrame(all,columns=['path','width','height','label','xmin','ymin','xmax','ymax'])\n",
    "\n",
    "# Read input image\n",
    "input_image = cv2.imread('./../data/input_forms/form_sample01.jpg')\n",
    "\n",
    "#Image pre-processing\n",
    "input_image=cv2.cvtColor(input_image,cv2.COLOR_BGR2GRAY)\n",
    "preprocess(input_image)\n",
    "img = cv2.imread('./../data/temp/output.png')\n"
   ]
  },
  {
   "cell_type": "code",
   "execution_count": null,
   "metadata": {},
   "outputs": [],
   "source": [
    "# load character prediction model (you can load any pretrained model)\n",
    "# Here I have use a model trained on very small sample (10 samples of each character), so the predictions are poor. \n",
    "# We can train our model on larger data set and inprove the predictions \n",
    "def predict(model_config, file_location):\n",
    "    model = load_model(model_config['filepath_weight'], model_config['filepath_architechture'])\n",
    "\n",
    "    # images format conversion\n",
    "    a = []\n",
    "    img = skio.imread(file_location)\n",
    "    img = resize(img, (16, 8))\n",
    "    img = img.tolist()\n",
    "    a.append(img)\n",
    "    img = np.asarray(a)\n",
    "    x_test = img\n",
    "\n",
    "    # Confidence of all alphabets\n",
    "    prediction = model.predict(x_test, batch_size=32, verbose=0)\n",
    "    result = np.argmax(prediction, axis=1)\n",
    "    result = result.tolist()\n",
    "    for i in prediction:\n",
    "        confidence = prediction[0][result]\n",
    "\n",
    "    result_alphabet = [chr(int(i) + ord('a')) for i in result]\n",
    "    confidence= Decimal(confidence[0]*100)\n",
    "\n",
    "    confidence = Decimal(confidence.quantize(Decimal('.01'), rounding=ROUND_HALF_UP))\n",
    "    return result_alphabet[0], confidence\n",
    "\n"
   ]
  },
  {
   "cell_type": "code",
   "execution_count": null,
   "metadata": {},
   "outputs": [],
   "source": [
    "#Crop image and send for character prediction\n",
    "model_config = get_model_config('larger_CNN')\n",
    "for i,row in data.iterrows():\n",
    "    x1=row['xmin']\n",
    "    y1=row['ymin']\n",
    "    x2=row['xmax']\n",
    "    y2=row['ymax']\n",
    "    image=img[y1:y2,x1:x2]\n",
    "    gray = cv2.cvtColor(image,cv2.COLOR_BGR2GRAY)\n",
    "    thresh, bnw = cv2.threshold(gray,0,255,cv2.THRESH_BINARY_INV+cv2.THRESH_OTSU)\n",
    "    crop_image_path='../data/crop_image/show_image'+str(i)+'.png'\n",
    "    cv2.imwrite(crop_image_path,bnw)\n",
    "    result_alphabet, confidence = predict(model_config, crop_image_path)\n",
    "    if confidence>80:\n",
    "        cv2.rectangle(img, (x1, y1), (x2, y2), (0,0,255), 2)\n",
    "        cv2.putText(img,result_alphabet,(x1+10,y1-5), cv2.FONT_HERSHEY_SIMPLEX,0.8,(0,0,255),2,cv2.LINE_AA)\n",
    "    else:\n",
    "        cv2.rectangle(img, (x1, y1), (x2, y2), (255,0,0), 2)\n",
    "        cv2.putText(img,result_alphabet,(x1+10,y1-5), cv2.FONT_HERSHEY_SIMPLEX,0.8,(255,0,0),2,cv2.LINE_AA)\n",
    "\n",
    "    print('The model predicts alphabet: {} with {}% confidence'.format(result_alphabet, confidence))\n"
   ]
  },
  {
   "cell_type": "code",
   "execution_count": 1,
   "metadata": {
    "scrolled": true
   },
   "outputs": [
    {
     "name": "stdout",
     "output_type": "stream",
     "text": [
      "Final output saved.\n"
     ]
    }
   ],
   "source": [
    "cv2.imwrite('./../data/output/final.png',img)\n",
    "print(\"Final output saved.\")\n",
    "#Display input images and output depth map\n",
    "# f = plt.figure(figsize=(30,50))\n",
    "# f.add_subplot(1,1, 1)\n",
    "# plt.title(\"Labelled output\")\n",
    "# plt.imshow(img)"
   ]
  },
  {
   "cell_type": "code",
   "execution_count": null,
   "metadata": {},
   "outputs": [],
   "source": []
  }
 ],
 "metadata": {
  "kernelspec": {
   "display_name": "Python 3",
   "language": "python",
   "name": "python3"
  },
  "language_info": {
   "codemirror_mode": {
    "name": "ipython",
    "version": 3
   },
   "file_extension": ".py",
   "mimetype": "text/x-python",
   "name": "python",
   "nbconvert_exporter": "python",
   "pygments_lexer": "ipython3",
   "version": "3.5.2"
  }
 },
 "nbformat": 4,
 "nbformat_minor": 2
}
